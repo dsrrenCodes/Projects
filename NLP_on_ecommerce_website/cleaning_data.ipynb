{
 "cells": [
  {
   "cell_type": "code",
   "execution_count": 30,
   "metadata": {},
   "outputs": [],
   "source": [
    "import pandas as pd\n",
    "import ast\n"
   ]
  },
  {
   "cell_type": "code",
   "execution_count": 2,
   "metadata": {},
   "outputs": [],
   "source": [
    "df=pd.read_csv(\"Product_data.csv\")"
   ]
  },
  {
   "cell_type": "code",
   "execution_count": 3,
   "metadata": {},
   "outputs": [
    {
     "data": {
      "text/plain": [
       "Unnamed: 0           0\n",
       "Product name         0\n",
       "Product price        0\n",
       "Number of ratings    0\n",
       "Number of reviews    0\n",
       "Review Summary       3\n",
       "Review Detail        3\n",
       "dtype: int64"
      ]
     },
     "execution_count": 3,
     "metadata": {},
     "output_type": "execute_result"
    }
   ],
   "source": [
    "#CLEANING DATA\n",
    "df.isna().sum()"
   ]
  },
  {
   "cell_type": "code",
   "execution_count": 4,
   "metadata": {},
   "outputs": [],
   "source": [
    "df=df.drop(columns=\"Unnamed: 0\")"
   ]
  },
  {
   "cell_type": "code",
   "execution_count": 5,
   "metadata": {},
   "outputs": [],
   "source": [
    "df['Number of reviews'][4] = \"5 Reviews\"\n",
    "df['Review Summary'][2] = \"['Good Value for the Price','Reliable Performance','Impressive Battery Life','Sleek and Portable','Lacks High-End Features']\"\n",
    "df['Review Detail'][2] = \"[\\\"Been using it for several months, and it's dependable for my daily use. Multitasking is smooth, and it runs most of my applications without any hiccups.\\\", \\\"Battery lasts long enough for a full day's work without needing to plug in. It's perfect for long sessions at the cafe or library.\\\", \\\"I love the sleek design of this laptop. It's lightweight and easy to carry around, which is great for my on-the-go lifestyle.\\\", \\\"While it's a decent machine, it doesn't have the high-end features that I need for advanced gaming or video editing.\\\"]\"\n",
    "\n",
    "df['Number of reviews'][5] = \"8 Reviews\"\n",
    "df['Review Summary'][5] = \"['Sluggish and Unresponsive','Poor Screen Quality','Constant Overheating','Cheap Build Quality','Terrible Customer Service','Battery Drains Quickly','Decent for Basic Tasks','Affordable Entry-Level Option']\"\n",
    "df['Review Detail'][5] =\"[\\\"This laptop is frustratingly slow. It struggles with more than two applications open, making it nearly impossible to work efficiently.\\\"]\""
   ]
  },
  {
   "cell_type": "code",
   "execution_count": 6,
   "metadata": {},
   "outputs": [
    {
     "name": "stderr",
     "output_type": "stream",
     "text": [
      "C:\\Users\\Darren\\AppData\\Local\\Temp\\ipykernel_27920\\1874515342.py:5: SettingWithCopyWarning: \n",
      "A value is trying to be set on a copy of a slice from a DataFrame.\n",
      "Try using .loc[row_indexer,col_indexer] = value instead\n",
      "\n",
      "See the caveats in the documentation: https://pandas.pydata.org/pandas-docs/stable/user_guide/indexing.html#returning-a-view-versus-a-copy\n",
      "  dropdf[\"Review Summary\"]=dropdf[\"Review Summary\"].apply(ast.literal_eval)\n",
      "C:\\Users\\Darren\\AppData\\Local\\Temp\\ipykernel_27920\\1874515342.py:7: SettingWithCopyWarning: \n",
      "A value is trying to be set on a copy of a slice from a DataFrame.\n",
      "Try using .loc[row_indexer,col_indexer] = value instead\n",
      "\n",
      "See the caveats in the documentation: https://pandas.pydata.org/pandas-docs/stable/user_guide/indexing.html#returning-a-view-versus-a-copy\n",
      "  dropdf[\"Review Detail\"]=dropdf[\"Review Detail\"].apply(ast.literal_eval)\n"
     ]
    }
   ],
   "source": [
    "#removing null rows\n",
    "dropdf=df.dropna()\n",
    "\n",
    "#converting \"[]\" to []\n",
    "dropdf[\"Review Summary\"]=dropdf[\"Review Summary\"].apply(ast.literal_eval)\n",
    "\n",
    "dropdf[\"Review Detail\"]=dropdf[\"Review Detail\"].apply(ast.literal_eval)"
   ]
  },
  {
   "cell_type": "code",
   "execution_count": 7,
   "metadata": {},
   "outputs": [],
   "source": [
    "#splitting review summary\n",
    "explode1=dropdf.explode(\"Review Summary\")\n"
   ]
  },
  {
   "cell_type": "code",
   "execution_count": 8,
   "metadata": {},
   "outputs": [],
   "source": [
    "#splitting review detail\n",
    "explode2=explode1.explode(\"Review Detail\",ignore_index=True)\n",
    "\n",
    "newdf2=explode2\n"
   ]
  },
  {
   "cell_type": "code",
   "execution_count": 9,
   "metadata": {},
   "outputs": [
    {
     "data": {
      "text/html": [
       "<div>\n",
       "<style scoped>\n",
       "    .dataframe tbody tr th:only-of-type {\n",
       "        vertical-align: middle;\n",
       "    }\n",
       "\n",
       "    .dataframe tbody tr th {\n",
       "        vertical-align: top;\n",
       "    }\n",
       "\n",
       "    .dataframe thead th {\n",
       "        text-align: right;\n",
       "    }\n",
       "</style>\n",
       "<table border=\"1\" class=\"dataframe\">\n",
       "  <thead>\n",
       "    <tr style=\"text-align: right;\">\n",
       "      <th></th>\n",
       "      <th>Product name</th>\n",
       "      <th>Product price</th>\n",
       "      <th>Number of ratings</th>\n",
       "      <th>Number of reviews</th>\n",
       "      <th>Review Summary</th>\n",
       "      <th>Review Detail</th>\n",
       "    </tr>\n",
       "  </thead>\n",
       "  <tbody>\n",
       "    <tr>\n",
       "      <th>0</th>\n",
       "      <td>Lenovo Legion 5 Pro AMD Ryzen 7 Octa Core 6800...</td>\n",
       "      <td>SGD 1999.84</td>\n",
       "      <td>28</td>\n",
       "      <td>2</td>\n",
       "      <td>Good Value for the Price</td>\n",
       "      <td>Been using it for several months, and it's dep...</td>\n",
       "    </tr>\n",
       "    <tr>\n",
       "      <th>1</th>\n",
       "      <td>Lenovo Legion 5 Pro AMD Ryzen 7 Octa Core 6800...</td>\n",
       "      <td>SGD 1999.84</td>\n",
       "      <td>28</td>\n",
       "      <td>2</td>\n",
       "      <td>Good Value for the Price</td>\n",
       "      <td>Battery lasts long enough for a full day's wor...</td>\n",
       "    </tr>\n",
       "    <tr>\n",
       "      <th>2</th>\n",
       "      <td>Lenovo Legion 5 Pro AMD Ryzen 7 Octa Core 6800...</td>\n",
       "      <td>SGD 1999.84</td>\n",
       "      <td>28</td>\n",
       "      <td>2</td>\n",
       "      <td>Good Value for the Price</td>\n",
       "      <td>I love the sleek design of this laptop. It's l...</td>\n",
       "    </tr>\n",
       "  </tbody>\n",
       "</table>\n",
       "</div>"
      ],
      "text/plain": [
       "                                        Product name Product price  \\\n",
       "0  Lenovo Legion 5 Pro AMD Ryzen 7 Octa Core 6800...   SGD 1999.84   \n",
       "1  Lenovo Legion 5 Pro AMD Ryzen 7 Octa Core 6800...   SGD 1999.84   \n",
       "2  Lenovo Legion 5 Pro AMD Ryzen 7 Octa Core 6800...   SGD 1999.84   \n",
       "\n",
       "  Number of ratings Number of reviews            Review Summary  \\\n",
       "0              28                  2   Good Value for the Price   \n",
       "1              28                  2   Good Value for the Price   \n",
       "2              28                  2   Good Value for the Price   \n",
       "\n",
       "                                       Review Detail  \n",
       "0  Been using it for several months, and it's dep...  \n",
       "1  Battery lasts long enough for a full day's wor...  \n",
       "2  I love the sleek design of this laptop. It's l...  "
      ]
     },
     "execution_count": 9,
     "metadata": {},
     "output_type": "execute_result"
    }
   ],
   "source": [
    "#Removing READMORE\n",
    "newdf2[\"Review Detail\"]=newdf2[\"Review Detail\"].str.replace(\"READ MORE\",\"\")\n",
    "\n",
    "#REMOVING Rating word\n",
    "newdf2[\"Number of ratings\"]=newdf2[\"Number of ratings\"].str.replace(\"Ratings\",\"\")\n",
    "\n",
    "#REMOVING Reviews word\n",
    "newdf2[\"Number of reviews\"]=newdf2[\"Number of reviews\"].str.replace(\"Reviews\",\"\")\n",
    "\n",
    "newdf2.head(3)"
   ]
  },
  {
   "cell_type": "code",
   "execution_count": 32,
   "metadata": {},
   "outputs": [],
   "source": [
    "#saving as csv\n",
    "newdf2.to_csv('cleaned_data.csv')"
   ]
  }
 ],
 "metadata": {
  "kernelspec": {
   "display_name": "base",
   "language": "python",
   "name": "python3"
  },
  "language_info": {
   "codemirror_mode": {
    "name": "ipython",
    "version": 3
   },
   "file_extension": ".py",
   "mimetype": "text/x-python",
   "name": "python",
   "nbconvert_exporter": "python",
   "pygments_lexer": "ipython3",
   "version": "3.11.5"
  }
 },
 "nbformat": 4,
 "nbformat_minor": 2
}
