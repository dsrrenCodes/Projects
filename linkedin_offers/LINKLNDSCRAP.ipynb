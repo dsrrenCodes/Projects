{
 "cells": [
  {
   "cell_type": "code",
   "execution_count": 1,
   "metadata": {},
   "outputs": [],
   "source": [
    "import random"
   ]
  },
  {
   "cell_type": "code",
   "execution_count": 29,
   "metadata": {},
   "outputs": [],
   "source": [
    "import pandas as pd"
   ]
  },
  {
   "cell_type": "code",
   "execution_count": 3,
   "metadata": {},
   "outputs": [],
   "source": [
    "import time"
   ]
  },
  {
   "cell_type": "code",
   "execution_count": 4,
   "metadata": {},
   "outputs": [],
   "source": [
    "from selenium.webdriver.common.by import By"
   ]
  },
  {
   "cell_type": "code",
   "execution_count": 5,
   "metadata": {},
   "outputs": [],
   "source": [
    "from selenium.webdriver.chrome.options import Options"
   ]
  },
  {
   "cell_type": "code",
   "execution_count": 6,
   "metadata": {},
   "outputs": [],
   "source": [
    "from selenium import webdriver"
   ]
  },
  {
   "cell_type": "code",
   "execution_count": 7,
   "metadata": {},
   "outputs": [],
   "source": [
    "opts=Options()"
   ]
  },
  {
   "cell_type": "code",
   "execution_count": 8,
   "metadata": {},
   "outputs": [],
   "source": [
    "useragent=\"Mozilla/5.0 (X11; Ubuntu; Linux x86_64) AppleWebKit/537.36 (KHTML, like Gecko) Chrome/80.0.3987.87 Safari/537.36 RuxitSynthetic/1.0 v6699369079789359798 t4951733999716571247\""
   ]
  },
  {
   "cell_type": "code",
   "execution_count": 9,
   "metadata": {},
   "outputs": [],
   "source": [
    "driver = webdriver.Chrome(options=opts)\n"
   ]
  },
  {
   "cell_type": "code",
   "execution_count": 10,
   "metadata": {},
   "outputs": [],
   "source": [
    "driver.get(\"https://www.linkedin.com/home\")"
   ]
  },
  {
   "cell_type": "code",
   "execution_count": 11,
   "metadata": {},
   "outputs": [],
   "source": [
    "#USERNAME\n",
    "username=driver.find_element(By.XPATH, '//*[@id=\"session_key\"]')"
   ]
  },
  {
   "cell_type": "code",
   "execution_count": 12,
   "metadata": {},
   "outputs": [],
   "source": [
    "#Input ur username\n",
    "username.send_keys(\"YOUR USERNAME\")\n",
    "driver.implicitly_wait(20)"
   ]
  },
  {
   "cell_type": "code",
   "execution_count": 13,
   "metadata": {},
   "outputs": [],
   "source": [
    "#PASSWORD\n",
    "password=driver.find_element(By.XPATH, '//*[@id=\"session_password\"]')"
   ]
  },
  {
   "cell_type": "code",
   "execution_count": 14,
   "metadata": {},
   "outputs": [],
   "source": [
    "#Input ur password\n",
    "password.send_keys(\"YOUR PASSWORD\")\n",
    "driver.implicitly_wait(30)"
   ]
  },
  {
   "cell_type": "code",
   "execution_count": 15,
   "metadata": {},
   "outputs": [],
   "source": [
    "signin=driver.find_element(By.XPATH,'//*[@id=\"main-content\"]/section[1]/div/div/form/div[2]/button').click()\n",
    "driver.implicitly_wait(10)"
   ]
  },
  {
   "cell_type": "code",
   "execution_count": 16,
   "metadata": {},
   "outputs": [],
   "source": [
    "#-----------------------------------------------------------------# AFTER LOGIN PAGE-----------------------------------------------------------------------------"
   ]
  },
  {
   "cell_type": "code",
   "execution_count": 17,
   "metadata": {},
   "outputs": [
    {
     "name": "stdout",
     "output_type": "stream",
     "text": [
      "collecting links now...\n"
     ]
    }
   ],
   "source": [
    "print(\"collecting links now...\")"
   ]
  },
  {
   "cell_type": "code",
   "execution_count": 18,
   "metadata": {},
   "outputs": [],
   "source": [
    "links=[]"
   ]
  },
  {
   "cell_type": "code",
   "execution_count": 19,
   "metadata": {},
   "outputs": [],
   "source": [
    "#Click on jobs icon\n",
    "driver.find_element(By.XPATH,'//*[@id=\"global-nav\"]/div/nav/ul/li[3]/a').click()\n",
    "driver.implicitly_wait(8)"
   ]
  },
  {
   "cell_type": "code",
   "execution_count": 20,
   "metadata": {},
   "outputs": [],
   "source": [
    "#Type of job you want and country. change the keywords\n",
    "#\"https://www.linkedin.com/jobs/search/?currentJobId=3744321563&geoId=102454443&keywords={YOUR JOB}&location={YOUR COUNTRY}&origin=JOB_SEARCH_PAGE_LOCATION_AUTOCOMPLETE&refresh=true\"\n",
    "driver.get(\"https://www.linkedin.com/jobs/search/?currentJobId=3744321563&geoId=102454443&keywords=juniordataanalyst&location=Singapore&origin=JOB_SEARCH_PAGE_LOCATION_AUTOCOMPLETE&refresh=true\")\n",
    "driver.implicitly_wait(20)"
   ]
  },
  {
   "cell_type": "code",
   "execution_count": 21,
   "metadata": {},
   "outputs": [
    {
     "name": "stdout",
     "output_type": "stream",
     "text": [
      "collecting page1\n"
     ]
    }
   ],
   "source": [
    "#collecting links now page1-page?\n",
    "#You can modify the number of pages you want range(1,3) indicates pages 1 to 2. Edit the range paremeter accordingly\n",
    "for page in range(1,2):\n",
    "    time.sleep(random.randrange(8, 35))\n",
    "    \n",
    "    joblist=driver.find_elements(By.CLASS_NAME,'jobs-search-results-list')\n",
    "    for i in joblist:\n",
    "        res=i.find_elements(By.TAG_NAME,\"a\")\n",
    "        for a in res:\n",
    "            if str(a.get_attribute('href')).startswith(\"https://www.linkedin.com/jobs/view\") and a.get_attribute('href') not in links: \n",
    "                links.append(a.get_attribute('href'))\n",
    "            else:\n",
    "                pass\n",
    "        #scrolling down till 'i' is visible\n",
    "        driver.execute_script(\"arguments[0].scrollIntoView();\", i)\n",
    "\n",
    "    #for debugging\n",
    "    print(f\"collecting page{page}\")\n",
    "    #clicking next page , ! common pattern: ”//button[@aria-label=’Page {enter_page_number_here}’]” ! for future ref\n",
    "    driver.find_element(By.XPATH,f\"//button[@aria-label='Page {page}']\").click()\n",
    "    \n",
    "    time.sleep(random.randrange(8, 35))\n",
    "            \n"
   ]
  },
  {
   "cell_type": "code",
   "execution_count": 25,
   "metadata": {},
   "outputs": [
    {
     "name": "stdout",
     "output_type": "stream",
     "text": [
      "processing link 1\n",
      "processing link 2\n",
      "processing link 3\n",
      "time unavaliable\n",
      "processing link 4\n",
      "processing link 5\n",
      "time unavaliable\n",
      "processing link 6\n",
      "job type unavaliable\n",
      "processing link 7\n",
      "processing link 8\n",
      "time unavaliable\n",
      "processing link 9\n",
      "processing link 10\n",
      "time unavaliable\n",
      "job name unavaliable\n",
      "job type unavaliable\n",
      "time unavaliable\n",
      "processing link 11\n",
      "time unavaliable\n",
      "processing link 12\n",
      "time unavaliable\n",
      "processing link 13\n",
      "time unavaliable\n",
      "processing link 14\n",
      "time unavaliable\n",
      "processing link 15\n",
      "processing link 16\n",
      "processing link 17\n",
      "time unavaliable\n",
      "processing link 18\n",
      "processing link 19\n",
      "time unavaliable\n",
      "processing link 20\n",
      "time unavaliable\n",
      "processing link 21\n",
      "processing link 22\n",
      "processing link 23\n",
      "processing link 24\n",
      "time unavaliable\n",
      "processing link 25\n",
      "time unavaliable\n"
     ]
    }
   ],
   "source": [
    "job_type=[] #fulltime\n",
    "job_name=[] #Math teacher\n",
    "company_name=[] #ABComapny\n",
    "time_posted=[] #2h ago\n",
    "    \n",
    "\n",
    "\n",
    "for i in range(len(links)):\n",
    "    try:\n",
    "\n",
    "        driver.get(links[i])\n",
    "        print(f\"processing link {i+1}\")\n",
    "    except:\n",
    "\n",
    "        print(\"Error clicking 'get more'during processing link\")\n",
    "    \n",
    "\n",
    "    \n",
    "\n",
    "    contents=driver.find_elements(By.CLASS_NAME,\"p5\")\n",
    "    for content in contents:\n",
    "        try:\n",
    "            #job name\n",
    "            job_name.append(content.find_element(By.TAG_NAME,'h1').text)\n",
    "            time.sleep(1)\n",
    "\n",
    "        except: \n",
    "            print(\"job name unavaliable\")\n",
    "            job_name.append(\"Not avaliable\")\n",
    "\n",
    "\n",
    "        try:\n",
    "            #job type\n",
    "            job_type.append(content.find_element(By.CLASS_NAME,'job-details-jobs-unified-top-card__job-insight-view-model-secondary').text)\n",
    "            \n",
    "            \n",
    "        except:\n",
    "            print(\"job type unavaliable\")\n",
    "            job_type.append(\"Not avaliable\")\n",
    "        try:\n",
    "            #company name\n",
    "            company_name.append(content.find_element(By.XPATH,'/html/body/div[5]/div[3]/div/div[1]/div[1]/div/div[1]/div/div/div[1]/div[2]/div/a').text)\n",
    "            \n",
    "\n",
    "        except:\n",
    "            print(\"company name unavaliable\")\n",
    "            company_name.append(\"Not avaliable\")\n",
    "\n",
    "        try:\n",
    "            #time posted\n",
    "            if content.find_element(By.XPATH,'/html/body/div[5]/div[3]/div/div[1]/div[1]/div/div[1]/div/div/div[1]/div[2]/div/span[3]/span[2]'):\n",
    "                time_posted.append(content.find_element(By.XPATH,'/html/body/div[5]/div[3]/div/div[1]/div[1]/div/div[1]/div/div/div[1]/div[2]/div/span[3]/span[2]').text)\n",
    "            else:\n",
    "                time_posted.append(content.find_element(By.XPATH,'/html/body/div[5]/div[3]/div/div[1]/div[1]/div/div[1]/div/div/div[1]/div[2]/div/span[3]/strong/span').text)\n",
    "\n",
    "\n",
    "        except:\n",
    "            print(\"time unavaliable\")\n",
    "            time_posted.append(\"Not avaliable\")\n"
   ]
  },
  {
   "cell_type": "code",
   "execution_count": 27,
   "metadata": {},
   "outputs": [
    {
     "name": "stdout",
     "output_type": "stream",
     "text": [
      "['Data Analyst - Honkai Star Rail', 'Fraud Data Analyst Intern - Trust and Safety, Regional Operations (Spring 2024)', 'Senior Data Analyst', 'Data Analyst - Space Systems and Analytics', 'Data Analyst & BI Intern', 'Data Defense Operations Analyst - DP (Singapore)', 'Risk Data Analyst - SeaMoney Credit', 'Data Analyst (Measurement & Insights)', 'Data Analyst, Advanced Operations Solutions', 'Data Analyst/ Senior Data Analyst (Bangkok Based, Relocation Support Provided)', 'Not avaliable', 'Data Analyst, Trilogy (Remote) - $100,000/year USD', 'Maritime Data Analyst', 'Statistician', 'Data Analyst (PM_FS_DataMgmt_DataGov_MetaData)', 'Senior Executive, Data Analyst (Insights) (Stellar Ace)', 'Assistant Manager, Data Analyst', 'Data and Visualization Analyst (Power BI) intern', 'Risk Data Analyst (Lark), Product Security', 'Data Analyst(P9837)', 'Power BI Consultant', 'Binance Accelerator Program - Junior Data Analyst', 'Data Analyst (Group Internal Audit)', 'BI Analyst (SQL)', 'Transaction and Data Analyst', 'Data Analyst_ Power Apps']\n",
      "['Full-time', 'Internship', 'Full-time', 'Mid-Senior level', 'Internship', 'Not avaliable', 'Full-time', 'Contract', 'Full-time', 'Mid-Senior level', 'Not avaliable', 'Full-time', 'Full-time', 'Full-time', 'Full-time', 'Full-time', 'Full-time', 'Internship', 'Mid-Senior level', 'Full-time', 'Full-time', 'Full-time', 'Full-time', 'Full-time', 'Full-time', 'Full-time']\n",
      "['HoYoverse', 'Shopee', 'Stealth Mode', 'ByteDance', 'Munich Re', 'TikTok', 'SeaMoney', 'Ad Astra Consultants ', 'AIA Singapore', 'Agoda', 'Agoda', 'Crossover ', \"Lloyd's List Intelligence\", 'Singapore Department of Statistics (DOS)', 'Maltem Asia-Pacific', 'Stellar Ace', 'SATS Ltd.', 'Randstad Singapore', 'Lark', 'Xiaomi Technology', 'LTIMindtree', 'Binance', 'PSA International Pte Ltd', 'Atome', 'CBRE Asia Pacific', 'Nityo Infotech']\n",
      "['4 days ago', '1 week ago', 'Not avaliable', '1 week ago', 'Not avaliable', '2 weeks ago', '1 week ago', 'Not avaliable', '3 days ago', 'Not avaliable', 'Not avaliable', 'Not avaliable', 'Not avaliable', 'Not avaliable', 'Not avaliable', '1 week ago', '1 week ago', 'Not avaliable', '1 week ago', 'Not avaliable', 'Not avaliable', '1 week ago', '6 days ago', '2 weeks ago', 'Not avaliable', 'Not avaliable']\n"
     ]
    }
   ],
   "source": [
    "#for debugging\n",
    "print(job_name)\n",
    "print(job_type)\n",
    "print(company_name)\n",
    "print(time_posted)"
   ]
  },
  {
   "cell_type": "code",
   "execution_count": 30,
   "metadata": {},
   "outputs": [],
   "source": [
    "#pandas to convert to csv file\n",
    "df = pd.DataFrame(list(zip(job_type,job_name,company_name,time_posted,links)),columns =['job_type', 'job_name', 'company_name' , 'posted', 'link'])\n",
    "df.to_csv('linkedln_offers.csv', index=False)\n",
    " "
   ]
  }
 ],
 "metadata": {
  "kernelspec": {
   "display_name": "Python 3",
   "language": "python",
   "name": "python3"
  },
  "language_info": {
   "codemirror_mode": {
    "name": "ipython",
    "version": 3
   },
   "file_extension": ".py",
   "mimetype": "text/x-python",
   "name": "python",
   "nbconvert_exporter": "python",
   "pygments_lexer": "ipython3",
   "version": "3.11.6"
  }
 },
 "nbformat": 4,
 "nbformat_minor": 2
}
