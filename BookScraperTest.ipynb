{
  "nbformat": 4,
  "nbformat_minor": 0,
  "metadata": {
    "colab": {
      "provenance": [],
      "authorship_tag": "ABX9TyObUBLwYncEm38TH3sSf9r9",
      "include_colab_link": true
    },
    "kernelspec": {
      "name": "python3",
      "display_name": "Python 3"
    },
    "language_info": {
      "name": "python"
    }
  },
  "cells": [
    {
      "cell_type": "markdown",
      "metadata": {
        "id": "view-in-github",
        "colab_type": "text"
      },
      "source": [
        "<a href=\"https://colab.research.google.com/github/dsrrenCodes/webscrapingprojects/blob/main/BookScraperTest.ipynb\" target=\"_parent\"><img src=\"https://colab.research.google.com/assets/colab-badge.svg\" alt=\"Open In Colab\"/></a>"
      ]
    },
    {
      "cell_type": "code",
      "execution_count": 87,
      "metadata": {
        "id": "baIvNFWuVxEa"
      },
      "outputs": [],
      "source": [
        "import requests\n",
        "\n"
      ]
    },
    {
      "cell_type": "code",
      "source": [
        "from bs4 import BeautifulSoup"
      ],
      "metadata": {
        "id": "AoPWoWB7XSy2"
      },
      "execution_count": 88,
      "outputs": []
    },
    {
      "cell_type": "code",
      "source": [
        "import pandas as pd"
      ],
      "metadata": {
        "id": "W3EKzNdRXZXH"
      },
      "execution_count": 81,
      "outputs": []
    },
    {
      "cell_type": "code",
      "source": [
        "def main():\n",
        "\n",
        "    books={\"Title\":[],\"Price\":[],\"Rating\":[]}\n",
        "    for i in range(1,10):\n",
        "            url=f\"https://books.toscrape.com/catalogue/category/books_1/page-{i}.html\"\n",
        "            response=requests.get(url)\n",
        "            soup = BeautifulSoup(response.content,\"html.parser\")\n",
        "            articles=soup.find_all(\"article\",class_=\"product_pod\")\n",
        "            for article in articles:\n",
        "              books[\"Title\"].append(get_title(article))\n",
        "              books[\"Price\"].append(get_price(article))\n",
        "              books[\"Rating\"].append(get_stars(article))\n",
        "\n",
        "\n",
        "    df=pd.DataFrame(books)\n",
        "    df.to_csv(\"books1.csv\")\n",
        "\n",
        "\n",
        "\n",
        "\n",
        "\n"
      ],
      "metadata": {
        "id": "qQjmCGuxZLxS"
      },
      "execution_count": 106,
      "outputs": []
    },
    {
      "cell_type": "code",
      "source": [],
      "metadata": {
        "id": "ac_QY2jVKnCL"
      },
      "execution_count": 82,
      "outputs": []
    },
    {
      "cell_type": "code",
      "source": [
        "def get_title(doc):\n",
        "\n",
        "    try:\n",
        "\n",
        "        image=doc.find(\"img\")\n",
        "        title=image[\"alt\"]\n",
        "    except(AttributeError):\n",
        "        title=\"-\"\n",
        "\n",
        "\n",
        "\n",
        "    return title\n",
        "\n"
      ],
      "metadata": {
        "id": "FVIIMF1fIigq"
      },
      "execution_count": 112,
      "outputs": []
    },
    {
      "cell_type": "code",
      "source": [
        "def get_stars(doc):\n",
        "    try:\n",
        "\n",
        "        stars=doc.find(\"p\")\n",
        "        stars=stars[\"class\"][1]\n",
        "    except(AttributeError):\n",
        "        stars=\"-\"\n",
        "\n",
        "\n",
        "    return stars +\" out of 5\""
      ],
      "metadata": {
        "id": "XBCMLA6rJImU"
      },
      "execution_count": 111,
      "outputs": []
    },
    {
      "cell_type": "code",
      "source": [
        "def get_price(doc):\n",
        "    try:\n",
        "        price=float(doc.find(\"p\",class_=\"price_color\").text[1:])\n",
        "    except(AttributeError):\n",
        "        price=\"-\"\n",
        "\n",
        "\n",
        "    return price"
      ],
      "metadata": {
        "id": "FituH73AJIyV"
      },
      "execution_count": 110,
      "outputs": []
    },
    {
      "cell_type": "code",
      "source": [
        "if __name__==\"__main__\":\n",
        "  main()"
      ],
      "metadata": {
        "id": "6rbwcLnnMqAx"
      },
      "execution_count": 113,
      "outputs": []
    }
  ]
}